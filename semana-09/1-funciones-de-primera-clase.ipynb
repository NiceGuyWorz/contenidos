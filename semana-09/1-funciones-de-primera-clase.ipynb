{
 "cells": [
  {
   "cell_type": "markdown",
   "metadata": {},
   "source": [
    "<p>\n",
    "<font size='5' face='Georgia, Arial'>IIC2233 Apunte Programación Avanzada</font><br>\n",
    "    <font size='1'>Material creado por Cuerpo Docente IIC2233 2018-1. Editado por Cuerpo Docente IIC2233 2018-2, 2019-2</font><br>\n",
    "    <font size='1'>La selección de temas a tratar se basa en un material creado en 2015 por Karim Pichara y Christian Pieringer, con sus modificaciones posteriores hechas por el Cuerpo Docente IIC2233 en 2017-1 y 2021-1.</font>\n",
    "</p>"
   ]
  },
  {
   "cell_type": "markdown",
   "metadata": {},
   "source": [
    "## Funciones de primera clase\n",
    "\n",
    "Se dice que el lenguaje Python posee **funciones de primera clase** (*first-class functions*). Esto quiere decir que las funciones son tratadas como cualquier otra variable. Esto no es así en todos los lenguajes.\n",
    "\n",
    "El hecho que las funciones sean \"de primera clase\" tiene algunas consecuencias. Por ejemplo:\n",
    "\n",
    "### Consecuencia 1\n",
    "Las funciones pueden ser asignadas a una variable, y luego esa variable puede ser usada igual que una función."
   ]
  },
  {
   "cell_type": "code",
   "execution_count": 1,
   "metadata": {},
   "outputs": [
    {
     "name": "stdout",
     "output_type": "stream",
     "text": [
      "<function suma at 0x1081bc830>\n",
      "<function suma at 0x1081bc830>\n",
      "8\n",
      "8\n"
     ]
    }
   ],
   "source": [
    "def suma(x, y):\n",
    "    return x + y\n",
    "\n",
    "adición = suma\n",
    "\n",
    "# Ambas son la misma función\n",
    "print(adición)\n",
    "print(suma)\n",
    "\n",
    "# Y por lo tanto entregan el mismo resultado\n",
    "print(suma(3, 5))\n",
    "print(adición(3, 5))"
   ]
  },
  {
   "cell_type": "markdown",
   "metadata": {},
   "source": [
    "### Consecuencia 2\n",
    "\n",
    "Las funciones pueden ser pasadas como parámetro a otras funciones."
   ]
  },
  {
   "cell_type": "code",
   "execution_count": 2,
   "metadata": {},
   "outputs": [
    {
     "name": "stdout",
     "output_type": "stream",
     "text": [
      "Buenas tardes Señora Valeria\n",
      "Buenas tardes Señor Germán\n"
     ]
    }
   ],
   "source": [
    "def saludar_señora(nombre):\n",
    "    return ' '.join([\"Señora\", nombre])\n",
    "\n",
    "def saludar_señor(nombre):\n",
    "    return ' '.join([\"Señor\", nombre])\n",
    "\n",
    "## Recibe una función, y ejecuta un llamado con ella.\n",
    "def saludar_tarde(función_saludo, nombre):\n",
    "    return ' '.join([\"Buenas tardes\", función_saludo(nombre)])\n",
    "\n",
    "## Aquí pasamos un nombre de función como argumento.\n",
    "## Atención que no agregamos los '()' porque no estamos invocando a esa función\n",
    "print(saludar_tarde(saludar_señora, \"Valeria\"))\n",
    "print(saludar_tarde(saludar_señor, \"Germán\"))"
   ]
  },
  {
   "cell_type": "markdown",
   "metadata": {},
   "source": [
    "O también:"
   ]
  },
  {
   "cell_type": "code",
   "execution_count": 6,
   "metadata": {},
   "outputs": [
    {
     "name": "stdout",
     "output_type": "stream",
     "text": [
      "520\n",
      "72\n"
     ]
    }
   ],
   "source": [
    "def operacion(x, y, funcion):\n",
    "    return x + y + funcion(x + y)\n",
    "\n",
    "def cubo(x):\n",
    "    return x ** 3\n",
    "\n",
    "def cuadrado(x):\n",
    "    return x ** 2\n",
    "\n",
    "## Aquí la función 'cubo' es el tercer argumento de la función 'operación'\n",
    "print(operacion(3, 5, cubo))  # 3 + 5 + (3 + 5) ** 3 = 8 + 512 = 520\n",
    "\n",
    "## Aquí la función 'cuadrado' es el tercer argumento de la función 'operación'\n",
    "print(operacion(3, 5, cuadrado))  # 3 + 5 + (3 + 5) ** 2 = 8 + 64 = 72"
   ]
  },
  {
   "cell_type": "markdown",
   "metadata": {},
   "source": [
    "### Consecuencia 3\n",
    "\n",
    "Se pueden definir funciones anidadas, es decir, funciones dentro de otras funciones."
   ]
  },
  {
   "cell_type": "code",
   "execution_count": 4,
   "metadata": {},
   "outputs": [
    {
     "name": "stdout",
     "output_type": "stream",
     "text": [
      "72\n"
     ]
    }
   ],
   "source": [
    "def operacion(x, y):\n",
    "    \n",
    "    ## La función 'operacion_interna' se define DENTRO de 'operacion' y puede ser \n",
    "    ## usado dentro de ella\n",
    "    def operacion_interna(z):\n",
    "        return z ** 2\n",
    "    \n",
    "    ## Podemos usar 'operacion_interna' dentro de 'operacion'\n",
    "    resultado = x + y + operacion_interna(x + y)\n",
    "    return resultado\n",
    "\n",
    "print(operacion(3, 5))"
   ]
  },
  {
   "cell_type": "markdown",
   "metadata": {},
   "source": [
    "Las funciones definidas **dentro de otra función** pueden ser usadas **solamente dentro de esa función**, tal como ocurre con cualquier otra variable definida dentro de una función. Se dice que tienen un _alcance_ (_scope_) limitado a la función en que fueron definidas."
   ]
  },
  {
   "cell_type": "code",
   "execution_count": 7,
   "metadata": {},
   "outputs": [
    {
     "name": "stdout",
     "output_type": "stream",
     "text": [
      "72\n"
     ]
    },
    {
     "ename": "NameError",
     "evalue": "name 'operacion_interna' is not defined",
     "output_type": "error",
     "traceback": [
      "\u001b[0;31m---------------------------------------------------------------------------\u001b[0m",
      "\u001b[0;31mNameError\u001b[0m                                 Traceback (most recent call last)",
      "\u001b[0;32m<ipython-input-7-73be74a1615a>\u001b[0m in \u001b[0;36m<module>\u001b[0;34m\u001b[0m\n\u001b[1;32m     11\u001b[0m \u001b[0;34m\u001b[0m\u001b[0m\n\u001b[1;32m     12\u001b[0m \u001b[0mprint\u001b[0m\u001b[0;34m(\u001b[0m\u001b[0moperacion\u001b[0m\u001b[0;34m(\u001b[0m\u001b[0;36m3\u001b[0m\u001b[0;34m,\u001b[0m \u001b[0;36m5\u001b[0m\u001b[0;34m)\u001b[0m\u001b[0;34m)\u001b[0m\u001b[0;34m\u001b[0m\u001b[0;34m\u001b[0m\u001b[0m\n\u001b[0;32m---> 13\u001b[0;31m \u001b[0mprint\u001b[0m\u001b[0;34m(\u001b[0m\u001b[0moperacion_interna\u001b[0m\u001b[0;34m(\u001b[0m\u001b[0;36m3\u001b[0m\u001b[0;34m,\u001b[0m \u001b[0;36m5\u001b[0m\u001b[0;34m)\u001b[0m\u001b[0;34m)\u001b[0m\u001b[0;34m\u001b[0m\u001b[0;34m\u001b[0m\u001b[0m\n\u001b[0m",
      "\u001b[0;31mNameError\u001b[0m: name 'operacion_interna' is not defined"
     ]
    }
   ],
   "source": [
    "def operacion(x, y):\n",
    "    \n",
    "    ## La función 'operacion_interna' se define DENTRO de 'operacion' y puede ser \n",
    "    ## usado dentro de ella\n",
    "    def operacion_interna(z):\n",
    "        return z ** 2\n",
    "    \n",
    "    ## Podemos usar 'operacion_interna' dentro de 'operacion'\n",
    "    resultado = x + y + operacion_interna(x + y)\n",
    "    return resultado\n",
    "\n",
    "print(operacion(3, 5))\n",
    "\n",
    "## No podemos usar 'operacion_interna' fuera de 'operacion', porque el nombre ha sido\n",
    "## definido DENTRO de 'operacion'\n",
    "print(operacion_interna(3, 5))\n"
   ]
  },
  {
   "cell_type": "markdown",
   "metadata": {},
   "source": [
    "### Consecuencia 4\n",
    "\n",
    "Las funciones pueden **retornar** otras funciones."
   ]
  },
  {
   "cell_type": "code",
   "execution_count": 10,
   "metadata": {},
   "outputs": [
    {
     "name": "stdout",
     "output_type": "stream",
     "text": [
      "Acabo de fabricar la función <function fabricar_funcion.<locals>.nueva_funcion at 0x1082553b0> y la retornaré\n",
      "funcion es <function fabricar_funcion.<locals>.nueva_funcion at 0x1082553b0>\n",
      "Invocando a funcion(3,5) --> 15\n"
     ]
    }
   ],
   "source": [
    "def fabricar_funcion():\n",
    "    ## Aquí definimos una función \"dentro\" de otra.\n",
    "    ## Esto significa que el nombre 'nueva_funcion' solo es válido dentro 'fabricar_funcion'\n",
    "    def nueva_funcion(x, y):\n",
    "        return x * y\n",
    "    \n",
    "    print(f\"Acabo de fabricar la función {nueva_funcion} y la retornaré\")\n",
    "    return nueva_funcion\n",
    "\n",
    "## Este llamado no invoca a 'nueva_funcion', sino que solo la define y la retorna\n",
    "funcion = fabricar_funcion()\n",
    "\n",
    "## Ahora, 'funcion' queda definida como 'nueva_funcion'\n",
    "print(f\"funcion es {funcion}\")\n",
    "print(f\"Invocando a funcion(3,5) --> {funcion(3,5)}\")"
   ]
  },
  {
   "cell_type": "markdown",
   "metadata": {},
   "source": [
    "En esta sección profundizaremos en las consecuencias de esta situación, para luego estudiar los elementos del lenguaje llamados **decoradores** y cómo se utilizan."
   ]
  },
  {
   "cell_type": "markdown",
   "metadata": {},
   "source": [
    "### Consecuencia 5\n",
    "\n",
    "Las funciones definidas adentro de otras tienen acceso **sólo de lectura** a las variables del _scope_ de la función que la contiene."
   ]
  },
  {
   "cell_type": "code",
   "execution_count": 30,
   "metadata": {},
   "outputs": [
    {
     "name": "stdout",
     "output_type": "stream",
     "text": [
      "[fabricar_funcion] Recibi x=3\n",
      "[fabricar_funcion] Acabo de crear <function fabricar_funcion.<locals>.nueva_funcion at 0x108255050>\n",
      "Llamamos a funcion\n",
      "[nueva_funcion] Siempre retorno 6\n",
      "6\n",
      "[fabricar_funcion] Recibi x=21\n",
      "[fabricar_funcion] Acabo de crear <function fabricar_funcion.<locals>.nueva_funcion at 0x1081da050>\n",
      "Llamamos a funcion\n",
      "[nueva_funcion] Siempre retorno 42\n",
      "42\n"
     ]
    }
   ],
   "source": [
    "def fabricar_funcion(x):\n",
    "    \n",
    "    print(f\"[fabricar_funcion] Recibi x={x}\")\n",
    "    ## Definimos nueva_funcion dentro de fabrica_funcion\n",
    "    ## nueva_funcion puede LEER el argumento x\n",
    "    def nueva_funcion():\n",
    "        print(f\"[nueva_funcion] Siempre retorno {2*x}\")\n",
    "        return 2 * x\n",
    "\n",
    "    print(f\"[fabricar_funcion] Acabo de crear {nueva_funcion}\")\n",
    "\n",
    "    ## Esto retorna una funcion que SIEMPRE retorna 2*x\n",
    "    ## x queda definido al momento de llamar a fabrica_funcion\n",
    "    return nueva_funcion\n",
    "\n",
    "\n",
    "## funcion se define como una función que SIEMPRE retorna 6 (2 * 3)\n",
    "funcion = fabricar_funcion(3)\n",
    "print(\"Llamamos a funcion\")\n",
    "print(funcion())\n",
    "\n",
    "## otra_función se define como una función que SIEMPRE retorna 42 (2 * 21)\n",
    "otra_funcion = fabricar_funcion(21)\n",
    "print(\"Llamamos a funcion\")\n",
    "print(otra_funcion())"
   ]
  },
  {
   "cell_type": "markdown",
   "metadata": {},
   "source": [
    "Podemos notar que la función retornada (`nueva_funcion`) es capaz de leer el valor de $x$ que tenía la función que la contenía (`fabricar_funcion`), incluso si la usamos con posterioridad.\n",
    "\n",
    "Ahora, veamos qué pasa si intentamos modificar una variable definida en la función que está un nivel más arriba."
   ]
  },
  {
   "cell_type": "code",
   "execution_count": 31,
   "metadata": {},
   "outputs": [],
   "source": [
    "def fabricar_funcion(x):\n",
    "    texto = \"Texto de prueba\"\n",
    "    print(f\"[fabricar_funcion] Texto: {texto}\")\n",
    "    def nueva_funcion():\n",
    "        texto = \"Texto definitivo\"\n",
    "        print(f\"[nueva_funcion] Texto: {texto}\")\n",
    "        return 2 * x\n",
    "    print(f\"[fabricar_funcion] Texto: {texto}\")\n",
    "    return nueva_funcion"
   ]
  },
  {
   "cell_type": "code",
   "execution_count": 32,
   "metadata": {},
   "outputs": [
    {
     "name": "stdout",
     "output_type": "stream",
     "text": [
      "[fabricar_funcion] Texto: Texto de prueba\n",
      "[fabricar_funcion] Texto: Texto de prueba\n"
     ]
    }
   ],
   "source": [
    "# Llamamos fabricar_función para obtener nuestra función que multiplica por dos\n",
    "funcion = fabricar_funcion(3)"
   ]
  },
  {
   "cell_type": "code",
   "execution_count": 33,
   "metadata": {},
   "outputs": [
    {
     "name": "stdout",
     "output_type": "stream",
     "text": [
      "[nueva_funcion] Texto: Texto definitivo\n",
      "6\n"
     ]
    }
   ],
   "source": [
    "# Ahora, llamamos la función\n",
    "print(funcion())"
   ]
  },
  {
   "cell_type": "markdown",
   "metadata": {},
   "source": [
    "Vimos que la modificación sólo es válida dentro del _scope_ de la función anidada.\n",
    "\n",
    "**Importante:** Si se redefine una variable en una función anidada, no podremos obtener el valor original dentro de ella, pues obtendremos un error. Tratemos de leer el valor de `texto` antes de modificarlo en `nueva_función`:"
   ]
  },
  {
   "cell_type": "code",
   "execution_count": 36,
   "metadata": {},
   "outputs": [
    {
     "name": "stdout",
     "output_type": "stream",
     "text": [
      "[fabricar_funcion] Texto antes de definir nueva_funcion: Texto de prueba\n",
      "[fabricar_funcion] Texto después de definir nueva_funcion: Texto de prueba\n"
     ]
    },
    {
     "ename": "UnboundLocalError",
     "evalue": "local variable 'texto' referenced before assignment",
     "output_type": "error",
     "traceback": [
      "\u001b[0;31m---------------------------------------------------------------------------\u001b[0m",
      "\u001b[0;31mUnboundLocalError\u001b[0m                         Traceback (most recent call last)",
      "\u001b[0;32m<ipython-input-36-4cc57fe15a3e>\u001b[0m in \u001b[0;36m<module>\u001b[0;34m\u001b[0m\n\u001b[1;32m     16\u001b[0m \u001b[0;34m\u001b[0m\u001b[0m\n\u001b[1;32m     17\u001b[0m \u001b[0;31m# Ahora, llamamos la función\u001b[0m\u001b[0;34m\u001b[0m\u001b[0;34m\u001b[0m\u001b[0;34m\u001b[0m\u001b[0m\n\u001b[0;32m---> 18\u001b[0;31m \u001b[0mprint\u001b[0m\u001b[0;34m(\u001b[0m\u001b[0mfuncion\u001b[0m\u001b[0;34m(\u001b[0m\u001b[0;34m)\u001b[0m\u001b[0;34m)\u001b[0m\u001b[0;34m\u001b[0m\u001b[0;34m\u001b[0m\u001b[0m\n\u001b[0m",
      "\u001b[0;32m<ipython-input-36-4cc57fe15a3e>\u001b[0m in \u001b[0;36mnueva_funcion\u001b[0;34m()\u001b[0m\n\u001b[1;32m      4\u001b[0m \u001b[0;34m\u001b[0m\u001b[0m\n\u001b[1;32m      5\u001b[0m     \u001b[0;32mdef\u001b[0m \u001b[0mnueva_funcion\u001b[0m\u001b[0;34m(\u001b[0m\u001b[0;34m)\u001b[0m\u001b[0;34m:\u001b[0m\u001b[0;34m\u001b[0m\u001b[0;34m\u001b[0m\u001b[0m\n\u001b[0;32m----> 6\u001b[0;31m         \u001b[0mprint\u001b[0m\u001b[0;34m(\u001b[0m\u001b[0;34mf\"[nueva_funcion] Texto antes de modificarlo: {texto}\"\u001b[0m\u001b[0;34m)\u001b[0m\u001b[0;34m\u001b[0m\u001b[0;34m\u001b[0m\u001b[0m\n\u001b[0m\u001b[1;32m      7\u001b[0m         \u001b[0mtexto\u001b[0m \u001b[0;34m=\u001b[0m \u001b[0;34m\"Texto definitivo\"\u001b[0m\u001b[0;34m\u001b[0m\u001b[0;34m\u001b[0m\u001b[0m\n\u001b[1;32m      8\u001b[0m         \u001b[0mprint\u001b[0m\u001b[0;34m(\u001b[0m\u001b[0;34mf\"[nueva_funcion] Texto: {texto}\"\u001b[0m\u001b[0;34m)\u001b[0m\u001b[0;34m\u001b[0m\u001b[0;34m\u001b[0m\u001b[0m\n",
      "\u001b[0;31mUnboundLocalError\u001b[0m: local variable 'texto' referenced before assignment"
     ]
    }
   ],
   "source": [
    "def fabricar_funcion(x):\n",
    "    texto = \"Texto de prueba\"\n",
    "    print(f\"[fabricar_funcion] Texto antes de definir nueva_funcion: {texto}\")\n",
    "    \n",
    "    def nueva_funcion():\n",
    "        print(f\"[nueva_funcion] Texto antes de modificarlo: {texto}\")\n",
    "        texto = \"Texto definitivo\"\n",
    "        print(f\"[nueva_funcion] Texto: {texto}\")\n",
    "        return 2 * x\n",
    "    \n",
    "    print(f\"[fabricar_funcion] Texto después de definir nueva_funcion: {texto}\")\n",
    "    return nueva_funcion\n",
    "\n",
    "# Llamamos fabricar_función para obtener nuestra función que multiplica por dos\n",
    "funcion = fabricar_funcion(3)\n",
    "\n",
    "# Ahora, llamamos la función\n",
    "print(funcion())"
   ]
  },
  {
   "cell_type": "markdown",
   "metadata": {},
   "source": [
    "En el siguiente _notebook_ usaremos estas cualidades de (1) recibir funciones como argumento, (2) definir funciones dentro de otras, y (3) utilizar los argumentos de una función dentro de otra función definida internamente para construir el concepto de **decorador** como un \"modificador de funciones\"."
   ]
  },
  {
   "cell_type": "markdown",
   "metadata": {},
   "source": [
    "## Referencias\n",
    "\n",
    "1. [The Code Ship - A guide to Python's function decorators](https://www.thecodeship.com/patterns/guide-to-python-function-decorators/)"
   ]
  }
 ],
 "metadata": {
  "anaconda-cloud": {},
  "kernelspec": {
   "display_name": "Python 3",
   "language": "python",
   "name": "python3"
  },
  "language_info": {
   "codemirror_mode": {
    "name": "ipython",
    "version": 3
   },
   "file_extension": ".py",
   "mimetype": "text/x-python",
   "name": "python",
   "nbconvert_exporter": "python",
   "pygments_lexer": "ipython3",
   "version": "3.7.10"
  }
 },
 "nbformat": 4,
 "nbformat_minor": 1
}
