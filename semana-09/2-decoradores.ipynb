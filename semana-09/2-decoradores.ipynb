{
 "cells": [
  {
   "cell_type": "markdown",
   "metadata": {},
   "source": [
    "<p>\n",
    "<font size='5' face='Georgia, Arial'>IIC2233 Apunte Programación Avanzada</font><br>\n",
    "<font size='1'>Editado por Equipo Docente IIC2233 2018-1, 2018-2, y 2019-2. Basado en documento de Nebil Kawas 2017-2.</font><br>\n",
    "<font size='1'>Incluye partes de un material confeccionado por Karim Pichara y Christian Pieringer en 2015.</font>\n",
    "<br>\n",
    "</p>"
   ]
  },
  {
   "cell_type": "markdown",
   "metadata": {},
   "source": [
    "## Decoradores de funciones\n",
    "\n",
    "En diseño de *software*, un ***decorador*** es un patrón de diseño en el que se añade una funcionalidad a un objeto, **sin tener que reescribir el código original**. Los decoradores de funciones aplican esa idea: permiten tomar una función ya implementada, agregar algún comportamiento o datos adicionales, y retornar una nueva función. \n",
    "\n",
    "Podemos ver los decoradores como funciones que reciben una función `f1` cualquiera, y retornan una función `f2` distinta. Por ejemplo, si nuestro decorador se llama `decorator`, para obtener la función modificada que queremos y asignarla a la misma función actual, simplemente escribimos `f1 = decorator(f1)`. Con esto, nuestra función `f1` ahora queda con los nuevos datos y comportamientos agregados. \n",
    "\n",
    "Un beneficio de los decoradores es que evitan la necesidad de modificar el código de la función original, por lo que si necesitamos volver a la versión inicial de la función simplemente quitamos el llamado al decorador.\n",
    "\n",
    "Empezaremos por algo sencillo: definamos un decorador *identidad*. Le decimos *identidad* porque, simplemente, devuelve una función (el *wrapper*) que, una vez llamado, ejecutará la función original. La función `deco_funcion` implementa este decorador."
   ]
  },
  {
   "cell_type": "code",
   "execution_count": 14,
   "metadata": {},
   "outputs": [],
   "source": [
    "def deco_function(funcion_original):\n",
    "    print(\"[deco_function] Entrando... \")\n",
    "\n",
    "    # Esta función 'wrapper' funciona como un \"envoltorio\", que en este caso solamente llama a la función original\n",
    "    def wrapper_function():\n",
    "        print(\"[wrapper_function] Entrando... \")\n",
    "        funcion_original()\n",
    "        print(\"[wrapper_function] Saliendo... \")\n",
    "\n",
    "    print(\"[deco_function] Saliendo... \")\n",
    "    return wrapper_function"
   ]
  },
  {
   "cell_type": "markdown",
   "metadata": {},
   "source": [
    "Supongamos que estamos en nuestra época favorita del año, como pueden ser las Fiestas Patrias. Ahora, definimos una función dieciochera."
   ]
  },
  {
   "cell_type": "code",
   "execution_count": 15,
   "metadata": {},
   "outputs": [],
   "source": [
    "def print_paya():\n",
    "    print(\"¡Aro, aro, aro!\")"
   ]
  },
  {
   "cell_type": "markdown",
   "metadata": {},
   "source": [
    "Llamamos a esta función recién definida."
   ]
  },
  {
   "cell_type": "code",
   "execution_count": 16,
   "metadata": {},
   "outputs": [
    {
     "name": "stdout",
     "output_type": "stream",
     "text": [
      "¡Aro, aro, aro!\n"
     ]
    }
   ],
   "source": [
    "print_paya()"
   ]
  },
  {
   "cell_type": "markdown",
   "metadata": {},
   "source": [
    "Le entregamos la función al decorador `deco_function` —recordemos que el decorador también es una función— para crear una **nueva** función."
   ]
  },
  {
   "cell_type": "code",
   "execution_count": 17,
   "metadata": {},
   "outputs": [
    {
     "name": "stdout",
     "output_type": "stream",
     "text": [
      "[deco_function] Entrando... \n",
      "[deco_function] Saliendo... \n"
     ]
    }
   ],
   "source": [
    "nuevo_print_paya = deco_function(print_paya)"
   ]
  },
  {
   "cell_type": "markdown",
   "metadata": {},
   "source": [
    "Este llamado **define** una `wrapper_function` (no la invoca). Retorna esta `wrapper_function`, la cual llama a `funcion_original`, y que ahora será `nuevo_print_paya`.\n",
    "\n",
    "La función decorada, `nuevo_print_paya` tiene el nuevo comportamiento."
   ]
  },
  {
   "cell_type": "code",
   "execution_count": 18,
   "metadata": {},
   "outputs": [
    {
     "name": "stdout",
     "output_type": "stream",
     "text": [
      "[wrapper_function] Entrando... \n",
      "¡Aro, aro, aro!\n",
      "[wrapper_function] Saliendo... \n"
     ]
    }
   ],
   "source": [
    "nuevo_print_paya()"
   ]
  },
  {
   "cell_type": "markdown",
   "metadata": {},
   "source": [
    "La función original sigue teniendo el comportamiento original."
   ]
  },
  {
   "cell_type": "code",
   "execution_count": 19,
   "metadata": {},
   "outputs": [
    {
     "name": "stdout",
     "output_type": "stream",
     "text": [
      "¡Aro, aro, aro!\n"
     ]
    }
   ],
   "source": [
    "print_paya()"
   ]
  },
  {
   "cell_type": "markdown",
   "metadata": {},
   "source": [
    "También podemos **reemplazar la función original** por la función decorada."
   ]
  },
  {
   "cell_type": "code",
   "execution_count": 20,
   "metadata": {},
   "outputs": [
    {
     "name": "stdout",
     "output_type": "stream",
     "text": [
      "[deco_function] Entrando... \n",
      "[deco_function] Saliendo... \n"
     ]
    }
   ],
   "source": [
    "print_paya = deco_function(print_paya)"
   ]
  },
  {
   "cell_type": "markdown",
   "metadata": {},
   "source": [
    "Y obtendremos el mismo resultado."
   ]
  },
  {
   "cell_type": "code",
   "execution_count": 21,
   "metadata": {},
   "outputs": [
    {
     "name": "stdout",
     "output_type": "stream",
     "text": [
      "[wrapper_function] Entrando... \n",
      "¡Aro, aro, aro!\n",
      "[wrapper_function] Saliendo... \n"
     ]
    }
   ],
   "source": [
    "print_paya()"
   ]
  },
  {
   "cell_type": "markdown",
   "metadata": {},
   "source": [
    "### Decoradores con *azúcar sintáctico*  \n",
    "\n",
    "Una forma equivalente, pero más rápida y legible de decorar funciones es escribiendo el **nombre del decorador arriba del encabezado de la función** anteponiendo un `@`. Es la misma sintaxis que usamos cuando queremos crear *properties*, de hecho, `property` es un decorador que ya hemos usado.\n",
    "\n",
    "Si partimos con la función original:"
   ]
  },
  {
   "cell_type": "code",
   "execution_count": 29,
   "metadata": {},
   "outputs": [
    {
     "name": "stdout",
     "output_type": "stream",
     "text": [
      "¡Aro, aro, aro!\n"
     ]
    }
   ],
   "source": [
    "def print_paya():\n",
    "    print(\"¡Aro, aro, aro!\")\n",
    "    \n",
    "print_paya()"
   ]
  },
  {
   "cell_type": "markdown",
   "metadata": {},
   "source": [
    "Nuestra paya decorada de esta manera, quedaría:"
   ]
  },
  {
   "cell_type": "code",
   "execution_count": 25,
   "metadata": {},
   "outputs": [
    {
     "name": "stdout",
     "output_type": "stream",
     "text": [
      "[deco_function] Entrando... \n",
      "[deco_function] Saliendo... \n"
     ]
    }
   ],
   "source": [
    "@deco_function\n",
    "def print_paya():\n",
    "    print(\"¡Aro, aro, aro!\")"
   ]
  },
  {
   "cell_type": "markdown",
   "metadata": {},
   "source": [
    "Podemos ver que la función `print_paya` tendrá el nuevo comportamiento cuando la llamemos."
   ]
  },
  {
   "cell_type": "code",
   "execution_count": 26,
   "metadata": {},
   "outputs": [
    {
     "name": "stdout",
     "output_type": "stream",
     "text": [
      "[wrapper_function] Entrando... \n",
      "¡Aro, aro, aro!\n",
      "[wrapper_function] Saliendo... \n"
     ]
    }
   ],
   "source": [
    "print_paya()"
   ]
  },
  {
   "cell_type": "markdown",
   "metadata": {},
   "source": [
    "Veamos un ejemplo, ahora, con una nueva función vegetariana."
   ]
  },
  {
   "cell_type": "code",
   "execution_count": 27,
   "metadata": {},
   "outputs": [
    {
     "name": "stdout",
     "output_type": "stream",
     "text": [
      "[deco_function] Entrando... \n",
      "[deco_function] Saliendo... \n"
     ]
    }
   ],
   "source": [
    "@deco_function\n",
    "def print_comida():\n",
    "    print(\"Comí pimentones con huevo.\")\n",
    "    print(\"Comí empanadas vegetarianas.\")"
   ]
  },
  {
   "cell_type": "markdown",
   "metadata": {},
   "source": [
    "Veamos el resultado."
   ]
  },
  {
   "cell_type": "code",
   "execution_count": 28,
   "metadata": {},
   "outputs": [
    {
     "name": "stdout",
     "output_type": "stream",
     "text": [
      "[wrapper_function] Entrando... \n",
      "Comí pimentones con huevo.\n",
      "Comí empanadas vegetarianas.\n",
      "[wrapper_function] Saliendo... \n"
     ]
    }
   ],
   "source": [
    "print_comida()"
   ]
  },
  {
   "cell_type": "markdown",
   "metadata": {},
   "source": [
    "El decorador se aplicó satisfactoriamente.\n",
    "\n",
    "Aplicar el decorador como:"
   ]
  },
  {
   "cell_type": "code",
   "execution_count": 30,
   "metadata": {},
   "outputs": [
    {
     "name": "stdout",
     "output_type": "stream",
     "text": [
      "[deco_function] Entrando... \n",
      "[deco_function] Saliendo... \n"
     ]
    }
   ],
   "source": [
    "@deco_function\n",
    "def print_paya():\n",
    "    print(\"¡Aro, aro, aro!\")"
   ]
  },
  {
   "cell_type": "markdown",
   "metadata": {},
   "source": [
    "Es equivalente a haber ejecutado:\n"
   ]
  },
  {
   "cell_type": "code",
   "execution_count": 31,
   "metadata": {},
   "outputs": [
    {
     "name": "stdout",
     "output_type": "stream",
     "text": [
      "[deco_function] Entrando... \n",
      "[deco_function] Saliendo... \n"
     ]
    }
   ],
   "source": [
    "print_paya = deco_function(print_paya)"
   ]
  },
  {
   "cell_type": "markdown",
   "metadata": {},
   "source": [
    "### Decoradores para funciones con argumentos\n",
    "\n",
    "Hemos visto cómo aplicar un decorador de dos formas equivalentes, pero los hemos aplicado sólo sobre funciones sin parámetros. Intentemos con una nueva función que, a diferencia de las anteriores, acepta un parámetro."
   ]
  },
  {
   "cell_type": "code",
   "execution_count": 37,
   "metadata": {},
   "outputs": [
    {
     "name": "stdout",
     "output_type": "stream",
     "text": [
      "[deco_function] Entrando... \n",
      "[deco_function] Saliendo... \n"
     ]
    }
   ],
   "source": [
    "@deco_function\n",
    "def print_bebida(bebida):\n",
    "    print(f\"Este dieciocho, me tomé dos litros de {bebida} al día.\")"
   ]
  },
  {
   "cell_type": "markdown",
   "metadata": {},
   "source": [
    "Veamos nuevamente el resultado."
   ]
  },
  {
   "cell_type": "code",
   "execution_count": 38,
   "metadata": {},
   "outputs": [
    {
     "ename": "TypeError",
     "evalue": "wrapper_function() takes 0 positional arguments but 1 was given",
     "output_type": "error",
     "traceback": [
      "\u001b[0;31m---------------------------------------------------------------------------\u001b[0m",
      "\u001b[0;31mTypeError\u001b[0m                                 Traceback (most recent call last)",
      "\u001b[0;32m<ipython-input-38-0c0a38dbc43e>\u001b[0m in \u001b[0;36m<module>\u001b[0;34m\u001b[0m\n\u001b[0;32m----> 1\u001b[0;31m \u001b[0mprint_bebida\u001b[0m\u001b[0;34m(\u001b[0m\u001b[0;34m\"agua\"\u001b[0m\u001b[0;34m)\u001b[0m\u001b[0;34m\u001b[0m\u001b[0;34m\u001b[0m\u001b[0m\n\u001b[0m",
      "\u001b[0;31mTypeError\u001b[0m: wrapper_function() takes 0 positional arguments but 1 was given"
     ]
    }
   ],
   "source": [
    "print_bebida(\"agua\")"
   ]
  },
  {
   "cell_type": "markdown",
   "metadata": {},
   "source": [
    "Algo salió mal. El _wrapper_ no esperaba recibir un argumento. \n",
    "\n",
    "Podríamos resolver este problema colocando un parámetro a `wrapper_function` que está definido en nuestro decorador. Sin embargo, con esa solución sólo podremos decorar funciones que reciben exactamente un parámetro. Lo que a nosotros nos gustaría es poder decorar cualquier función, independiente de la cantidad de parámetros que reciba.\n",
    "\n",
    "Para resolver este problema en forma definitiva, necesitamos utilizar `*args` y `**kwargs`.\n",
    "\n",
    "- “¿Qué es `*args` y `**kwargs`?”  \n",
    "    - Ellos son utilizados generalmente en la definición de funciones, y sirven para pasar una **cantidad variable** de argumentos.  \n",
    "\n",
    "- “¿Y para qué me sirve eso?”  \n",
    "    - Esto me será de gran utilidad en casos cuando yo no sepa, de antemano, cuántos argumentos me llegarán.\n",
    "\n"
   ]
  },
  {
   "cell_type": "markdown",
   "metadata": {},
   "source": [
    "Volviendo al primer decorador, agreguémosles `*args` y `**kwargs`."
   ]
  },
  {
   "cell_type": "code",
   "execution_count": 39,
   "metadata": {},
   "outputs": [],
   "source": [
    "def deco_function(funcion_original):\n",
    "    print(\"[deco_function] Entrando... \")\n",
    "    \n",
    "    ## Ahora la función 'envoltorio', es capaz de recibir una cantidad variable de argumentos\n",
    "    def wrapper_function(*args, **kwargs):    \n",
    "        print(\"[wrapper_function] Entrando... \")\n",
    "        ## Esta cantidad variable de argumentos se le entrega a la función original\n",
    "        funcion_original(*args, **kwargs)\n",
    "        print(\"[wrapper_function] Saliendo... \")\n",
    "    \n",
    "    print(\"[deco_function] Saliendo... \")\n",
    "    return wrapper_function\n"
   ]
  },
  {
   "cell_type": "code",
   "execution_count": 40,
   "metadata": {},
   "outputs": [
    {
     "name": "stdout",
     "output_type": "stream",
     "text": [
      "[deco_function] Entrando... \n",
      "[deco_function] Saliendo... \n"
     ]
    }
   ],
   "source": [
    "@deco_function\n",
    "def print_bebida(bebida):\n",
    "    print(f\"Este dieciocho, me tomé dos litros de {bebida} por día.\")"
   ]
  },
  {
   "cell_type": "markdown",
   "metadata": {},
   "source": [
    "Veamos nuevamente el resultado."
   ]
  },
  {
   "cell_type": "code",
   "execution_count": 41,
   "metadata": {},
   "outputs": [
    {
     "name": "stdout",
     "output_type": "stream",
     "text": [
      "[wrapper_function] Entrando... \n",
      "Este dieciocho, me tomé dos litros de pipeño por día.\n",
      "[wrapper_function] Saliendo... \n"
     ]
    }
   ],
   "source": [
    "print_bebida(\"pipeño\")"
   ]
  },
  {
   "cell_type": "markdown",
   "metadata": {},
   "source": [
    "Ahora sí funcionó. 😀"
   ]
  },
  {
   "cell_type": "markdown",
   "metadata": {},
   "source": [
    "### Decoradores con parámetros\n",
    "\n",
    "Si queremos crear decoradores que acepten parámetros, debemos agregar un tercer nivel de funciones anidadas. Cada nivel tiene un rol:\n",
    "\n",
    "- La función más externa es el constructor del decorador.\n",
    "- La función intermedia es el decorador.\n",
    "- La función más interna es la función modificada.\n",
    "\n",
    "En general, esta estructura se ve de la siguiente manera:"
   ]
  },
  {
   "cell_type": "code",
   "execution_count": 42,
   "metadata": {},
   "outputs": [],
   "source": [
    "# Función creadora de decoradores. \n",
    "# Recibe parámetros para personalizar nuestro decorador.\n",
    "def my_decorator_constructor(dec_parameters):\n",
    "    # Función decoradora. Recibe sólo una función.\n",
    "    def my_decorator(function): \n",
    "        # Wrapper. Acá podemos leer los argumentos recibidos.\n",
    "        # en las dos funciones que están en niveles superiores.\n",
    "        def wrapped_function(*args, **kwargs):\n",
    "            # Hacer algo aquí antes de aplicar la función.\n",
    "            # Llamar a la función y obtener lo que retorna.\n",
    "            res = function(*args, **kwargs)\n",
    "            # Hacer algo después.\n",
    "            # Retornar un valor.\n",
    "            return res\n",
    "        return wrapped_function # Retorna la sub función.\n",
    "    return my_decorator # Retorna el decorador."
   ]
  },
  {
   "cell_type": "markdown",
   "metadata": {},
   "source": [
    "**Veamos un ejemplo.** Siguiendo con nuestros ejemplos dieciocheros, primero definamos un decorador etílico sin parámetros:"
   ]
  },
  {
   "cell_type": "code",
   "execution_count": 43,
   "metadata": {},
   "outputs": [],
   "source": [
    "# Sleep pausará la ejecución del programa por la cantidad de segundos que se indique\n",
    "from time import sleep as caña\n",
    "\n",
    "def caña_de_pipeño(original_function):\n",
    "    def wrapper(*args, **kwargs):\n",
    "        caña(3)  # Pausa por 3 segundos\n",
    "        return original_function(*args, **kwargs)\n",
    "\n",
    "    return wrapper"
   ]
  },
  {
   "cell_type": "markdown",
   "metadata": {},
   "source": [
    "Definamos una simple función decorada."
   ]
  },
  {
   "cell_type": "code",
   "execution_count": 44,
   "metadata": {},
   "outputs": [],
   "source": [
    "@caña_de_pipeño\n",
    "def add_twelve(number):\n",
    "    return number + 12"
   ]
  },
  {
   "cell_type": "markdown",
   "metadata": {},
   "source": [
    "Veamos el resultado."
   ]
  },
  {
   "cell_type": "code",
   "execution_count": 45,
   "metadata": {},
   "outputs": [
    {
     "name": "stdout",
     "output_type": "stream",
     "text": [
      "¡Feliz 18 para todos!\n"
     ]
    }
   ],
   "source": [
    "print(f\"¡Feliz {add_twelve(6)} para todos!\")"
   ]
  },
  {
   "cell_type": "markdown",
   "metadata": {},
   "source": [
    "La función demoró en responder.\n",
    "\n",
    "Ahora, imaginemos que buscamos implementar lo mismo, pero con un parámetro que indique qué bebida tomamos."
   ]
  },
  {
   "cell_type": "code",
   "execution_count": 46,
   "metadata": {},
   "outputs": [],
   "source": [
    "def caña_de(bebida):\n",
    "    def deco_function(original_function):\n",
    "        def wrapper(*args, **kwargs):\n",
    "            if bebida == \"vino\":\n",
    "                caña(2)\n",
    "                print(\"Ayuda, por favor.\")\n",
    "            elif bebida == \"pipeño\":\n",
    "                caña(3)\n",
    "                print(\"¿Dónde estoy? ¿Quién soy?\")\n",
    "                args = (0, )  # Para acrecentar los efectos del pipeño,\n",
    "                              # podemos también cambiar los parámetros.\n",
    "            else:\n",
    "                print(\"No hay caña.\")\n",
    "            return original_function(*args, **kwargs)\n",
    "        \n",
    "        return wrapper\n",
    "    return deco_function"
   ]
  },
  {
   "cell_type": "markdown",
   "metadata": {},
   "source": [
    "Definimos la misma función, pero ahora con el decorador recién definido."
   ]
  },
  {
   "cell_type": "code",
   "execution_count": 47,
   "metadata": {},
   "outputs": [],
   "source": [
    "@caña_de(\"pipeño\")\n",
    "def add_twelve(number):\n",
    "    return number + 12"
   ]
  },
  {
   "cell_type": "markdown",
   "metadata": {},
   "source": [
    "Analicemos los efectos del pipeño."
   ]
  },
  {
   "cell_type": "code",
   "execution_count": 48,
   "metadata": {
    "scrolled": true
   },
   "outputs": [
    {
     "name": "stdout",
     "output_type": "stream",
     "text": [
      "¿Dónde estoy? ¿Quién soy?\n",
      "¡Feliz 12 para todos!\n"
     ]
    }
   ],
   "source": [
    "print(f\"¡Feliz {add_twelve(6)} para todos!\")"
   ]
  },
  {
   "cell_type": "markdown",
   "metadata": {},
   "source": [
    "Claro… por lo que ocurrió el [12 de febrero de 1818](https://es.wikipedia.org/wiki/Acta_de_Independencia_de_Chile).\n",
    "\n",
    "Podemos ver que además de demorar 3 segundos en dar la respuesta, los argumentos dados a `add_twelve` fueron reemplazados con una tupla con un cero. De hecho, si intentamos con otro valor:"
   ]
  },
  {
   "cell_type": "code",
   "execution_count": 49,
   "metadata": {},
   "outputs": [
    {
     "name": "stdout",
     "output_type": "stream",
     "text": [
      "¿Dónde estoy? ¿Quién soy?\n",
      "¡Feliz 12 para todos!\n"
     ]
    }
   ],
   "source": [
    "print(f\"¡Feliz {add_twelve(33)} para todos!\")"
   ]
  },
  {
   "cell_type": "markdown",
   "metadata": {},
   "source": [
    "Obtenemos el mismo resultado."
   ]
  }
 ],
 "metadata": {
  "kernelspec": {
   "display_name": "Python 3",
   "language": "python",
   "name": "python3"
  },
  "language_info": {
   "codemirror_mode": {
    "name": "ipython",
    "version": 3
   },
   "file_extension": ".py",
   "mimetype": "text/x-python",
   "name": "python",
   "nbconvert_exporter": "python",
   "pygments_lexer": "ipython3",
   "version": "3.7.10"
  }
 },
 "nbformat": 4,
 "nbformat_minor": 2
}
